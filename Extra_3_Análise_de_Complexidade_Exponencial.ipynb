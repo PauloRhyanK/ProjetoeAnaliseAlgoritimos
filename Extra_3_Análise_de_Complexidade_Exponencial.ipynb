{
  "nbformat": 4,
  "nbformat_minor": 0,
  "metadata": {
    "colab": {
      "provenance": [],
      "include_colab_link": true
    },
    "kernelspec": {
      "name": "python3",
      "display_name": "Python 3"
    }
  },
  "cells": [
    {
      "cell_type": "markdown",
      "metadata": {
        "id": "view-in-github",
        "colab_type": "text"
      },
      "source": [
        "<a href=\"https://colab.research.google.com/github/PauloRhyanK/ProjetoeAnaliseAlgoritimos/blob/main/Extra_3_An%C3%A1lise_de_Complexidade_Exponencial.ipynb\" target=\"_parent\"><img src=\"https://colab.research.google.com/assets/colab-badge.svg\" alt=\"Open In Colab\"/></a>"
      ]
    },
    {
      "cell_type": "markdown",
      "metadata": {
        "id": "G90zxY79qIXe"
      },
      "source": [
        "\n",
        "<html>\n",
        "  <body>\n",
        "    <header></header>\n",
        "        <CENTER>\n",
        "          <img src=\"https://uvv.br/wp-content/themes/core/dist/images/Logo@2x.png\" alt=\"UVV-LOGO\" style = width=\"100px\"; height=\"100px\">\n",
        "        </CENTER>\n",
        "        <CENTER>\n",
        "          <b>\n",
        "            <font size=\"5\">PROJETO E ANÁLISE DE ALGORITMOS\n",
        "          </b>\n",
        "          </CENTER>\n",
        "        <CENTER><b>ANÁLISE DE COMPLEXIDADE EXPONENCIAL</b></CENTER><br/>\n",
        "        </font>"
      ]
    },
    {
      "cell_type": "markdown",
      "source": [
        "COLAB: [Link]()"
      ],
      "metadata": {
        "id": "koY2aomhEh-L"
      }
    },
    {
      "cell_type": "markdown",
      "metadata": {
        "id": "_Kanz0T-rhol"
      },
      "source": [
        "# BIBLIOTECAS"
      ]
    },
    {
      "cell_type": "code",
      "source": [
        "import numpy\n",
        "import time\n",
        "import matplotlib.pyplot as plt\n",
        "import graphviz"
      ],
      "metadata": {
        "id": "Mmg91VilSlU0"
      },
      "execution_count": null,
      "outputs": []
    },
    {
      "cell_type": "markdown",
      "source": [
        "# FUNÇÕES"
      ],
      "metadata": {
        "id": "5dircNoFxfpk"
      }
    },
    {
      "cell_type": "code",
      "source": [],
      "metadata": {
        "id": "fRAwx9-wS2jo"
      },
      "execution_count": null,
      "outputs": []
    },
    {
      "cell_type": "markdown",
      "metadata": {
        "id": "9xAeS2N6odUE"
      },
      "source": [
        "# EXERCÍCIOS"
      ]
    },
    {
      "cell_type": "markdown",
      "source": [
        "Fazer todas as fórmulas matemática usando a Linguagem de Marcação: $L^aTe_x$"
      ],
      "metadata": {
        "id": "g38vxzIcwFd8"
      }
    },
    {
      "cell_type": "markdown",
      "source": [
        "## 1) TÍTULO: Análise de Complexidade Exponencial"
      ],
      "metadata": {
        "id": "z8-ip9IbkXN-"
      }
    },
    {
      "cell_type": "code",
      "source": [],
      "metadata": {
        "id": "-o1eFFkdkvMK"
      },
      "execution_count": null,
      "outputs": []
    }
  ]
}