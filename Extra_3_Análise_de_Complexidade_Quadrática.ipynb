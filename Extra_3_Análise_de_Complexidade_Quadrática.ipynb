{
  "nbformat": 4,
  "nbformat_minor": 0,
  "metadata": {
    "colab": {
      "provenance": [],
      "collapsed_sections": [
        "_Kanz0T-rhol",
        "zUBN5mLAzPHi",
        "9xAeS2N6odUE"
      ],
      "include_colab_link": true
    },
    "kernelspec": {
      "name": "python3",
      "display_name": "Python 3"
    }
  },
  "cells": [
    {
      "cell_type": "markdown",
      "metadata": {
        "id": "view-in-github",
        "colab_type": "text"
      },
      "source": [
        "<a href=\"https://colab.research.google.com/github/PauloRhyanK/ProjetoeAnaliseAlgoritimos/blob/main/Extra_3_An%C3%A1lise_de_Complexidade_Quadr%C3%A1tica.ipynb\" target=\"_parent\"><img src=\"https://colab.research.google.com/assets/colab-badge.svg\" alt=\"Open In Colab\"/></a>"
      ]
    },
    {
      "cell_type": "markdown",
      "metadata": {
        "id": "G90zxY79qIXe"
      },
      "source": [
        "\n",
        "<html>\n",
        "  <body>\n",
        "    <header></header>\n",
        "        <CENTER>\n",
        "          <img src=\"https://uvv.br/wp-content/themes/core/dist/images/Logo@2x.png\" alt=\"UVV-LOGO\" style = width=\"100px\"; height=\"100px\">\n",
        "        </CENTER>\n",
        "        <CENTER>\n",
        "          <b>\n",
        "            <font size=\"5\">PROJETO E ANÁLISE DE ALGORITMOS\n",
        "          </b>\n",
        "          </CENTER>\n",
        "        <CENTER><b>ANÁLISE DE COMPLEXIDADE QUADRÁTICA</b></CENTER><br/>\n",
        "        </font>"
      ]
    },
    {
      "cell_type": "markdown",
      "source": [
        "COLAB: [Link](https://colab.research.google.com/github/PauloRhyanK/ProjetoeAnaliseAlgoritimos/blob/main/Extra_3_An%C3%A1lise_de_Complexidade_Quadr%C3%A1tica.ipynb)"
      ],
      "metadata": {
        "id": "koY2aomhEh-L"
      }
    },
    {
      "cell_type": "markdown",
      "metadata": {
        "id": "_Kanz0T-rhol"
      },
      "source": [
        "# BIBLIOTECAS"
      ]
    },
    {
      "cell_type": "code",
      "source": [
        "import numpy\n",
        "import time\n",
        "import matplotlib.pyplot as plt\n",
        "import graphviz\n",
        "import math"
      ],
      "metadata": {
        "id": "Mmg91VilSlU0"
      },
      "execution_count": 33,
      "outputs": []
    },
    {
      "cell_type": "markdown",
      "source": [
        "# FUNÇÕES"
      ],
      "metadata": {
        "id": "5dircNoFxfpk"
      }
    },
    {
      "cell_type": "code",
      "source": [
        "def bubbleSort(array):\n",
        "  '''\n",
        "  DOCSTRING: Bubble Sort\n",
        "  '''\n",
        "  start = time.time()\n",
        "  flag = True\n",
        "  fn = 0\n",
        "  Ls = T = len(array)\n",
        "  while flag:\n",
        "    flag = False\n",
        "    for i in range(Ls - 1):\n",
        "      fn += 1\n",
        "      if (array[i] > array[i + 1]):\n",
        "        # array[i], array[i + 1] = array[i + 1], array[i]\n",
        "        fn += 3\n",
        "        aux = array[i]\n",
        "        array[i] = array[i + 1]\n",
        "        array[i + 1] = aux\n",
        "        flag = True\n",
        "    Ls -= 1\n",
        "  elapsed = time.time() - start\n",
        "  return array, fn, elapsed"
      ],
      "metadata": {
        "id": "fRAwx9-wS2jo"
      },
      "execution_count": 9,
      "outputs": []
    },
    {
      "cell_type": "code",
      "source": [
        "def piorCaso(T = 2):\n",
        "  array = numpy.arange(T, 0, -1)\n",
        "  return array"
      ],
      "metadata": {
        "id": "DAf1BY9ReM2P"
      },
      "execution_count": 10,
      "outputs": []
    },
    {
      "cell_type": "code",
      "source": [
        "def casoMedio(T = 2):\n",
        "  array = numpy.random.choice(numpy.arange(10, 100, 1), T, replace = False)\n",
        "  return array"
      ],
      "metadata": {
        "id": "NjFXSWWOyDJ6"
      },
      "execution_count": 11,
      "outputs": []
    },
    {
      "cell_type": "code",
      "source": [
        "def melhorCaso(T = 2):\n",
        "  array = numpy.arange(1, T + 1, 1)\n",
        "  return array"
      ],
      "metadata": {
        "id": "GpqrYBL-yDRL"
      },
      "execution_count": 12,
      "outputs": []
    },
    {
      "cell_type": "code",
      "source": [
        "def desenhar_vetor(vetor, nome=\"Vetor\", i = None, j = None):\n",
        "    \"\"\"\n",
        "      Gera um desenho do vetor usando Graphviz com formato de record.\n",
        "    \"\"\"\n",
        "    vetor = numpy.array(vetor)  # Converte para array NumPy, se necessário\n",
        "    grafo = graphviz.Digraph(format='png')  # Cria o gráfico\n",
        "\n",
        "    grafo.attr(rankdir='LR', size='8')  # Direção da esquerda para a direita\n",
        "    grafo.attr(label=f\" {nome} \", fontsize='16', labelloc='t')\n",
        "\n",
        "    # Criando o nó do vetor inteiro usando record\n",
        "    elementos = \" | \".join(str(valor) for valor in vetor)  # Concatena os valores do vetor\n",
        "    grafo.node(\"vetor\", label=f\"{{ {elementos} }}\", shape=\"record\", style=\"filled\", fillcolor=\"lightblue\")\n",
        "\n",
        "    return grafo"
      ],
      "metadata": {
        "id": "aHN-2EDQ2Wa0"
      },
      "execution_count": 13,
      "outputs": []
    },
    {
      "cell_type": "code",
      "source": [
        "def LetraA():\n",
        "  X = piorCaso(11)\n",
        "  temp = bubbleSort(X)\n",
        "  Y = temp[0] ** 2                 # Criar o Y: Usando as funções Pior Caso + Bolha\n",
        "  plt.plot(X, Y)\n",
        "  xlabel = '$n$'\n",
        "  plt.xlabel(xlabel)\n",
        "  ylabel = '$f(n)$'\n",
        "  plt.ylabel(ylabel)\n",
        "  plt.xlabel(xlabel)\n",
        "  fn = '$f(n) = 2n^2 - 2n$'\n",
        "  title = f'Função de Complexidade: {fn}'\n",
        "  plt.title(title)"
      ],
      "metadata": {
        "id": "LYKQ8pB31ABs"
      },
      "execution_count": 14,
      "outputs": []
    },
    {
      "cell_type": "code",
      "source": [
        "def LetraB(x,y,t):\n",
        "  # Listas para armazenar os resultados\n",
        "  X, Y, T = [], [], []\n",
        "\n",
        "  # Iteração nos diferentes valores de n\n",
        "  for i in range(x, y, t):\n",
        "      array = piorCaso(i)  # Cria o array no pior caso\n",
        "      tempX, tempY, tempT = bubbleSort(array)  # Ordena o array e pega os tempos de execução\n",
        "      X.append(i)  # Adiciona o valor de n\n",
        "      Y.append(tempY)  # Adiciona a quantidade de comparações\n",
        "      T.append(tempT)  # Adiciona o tempo de execução\n",
        "\n",
        "  # Plotando o gráfico\n",
        "  plt.plot(X, T, label=\"Comparações\")\n",
        "  plt.xlabel('$n$')\n",
        "  plt.ylabel('$f(n)$')\n",
        "  fn = '$f(n) = 2n^2 - 2n$'\n",
        "  title = f'Função de Complexidade: {fn}'\n",
        "  plt.title(title)\n",
        "  plt.legend()\n",
        "  plt.show()"
      ],
      "metadata": {
        "id": "xh3DTUHWbEmJ"
      },
      "execution_count": 60,
      "outputs": []
    },
    {
      "cell_type": "code",
      "source": [
        "def letraC(P):\n",
        "    # Calcula o valor de n baseado no valor de P\n",
        "    if P < 0:\n",
        "        raise ValueError(\"O valor de P não pode ser negativo\")\n",
        "\n",
        "    # Calculando n pela fórmula derivada: n = (2 + sqrt(4 + 8P)) / 4\n",
        "    n = (2 + math.sqrt(4 + 8 * P)) / 4\n",
        "\n",
        "    print(f\"O valor de n para P = {P} é aproximadamente {n: .3f}\")"
      ],
      "metadata": {
        "id": "bMPkXKTNyX0u"
      },
      "execution_count": 38,
      "outputs": []
    },
    {
      "cell_type": "markdown",
      "source": [
        "# ENGENHARIA REVERSA"
      ],
      "metadata": {
        "id": "zUBN5mLAzPHi"
      }
    },
    {
      "cell_type": "code",
      "source": [
        "# MELHOR CASO\n",
        "array = melhorCaso(5)\n",
        "array"
      ],
      "metadata": {
        "id": "WF8GZ-LPU5p5",
        "colab": {
          "base_uri": "https://localhost:8080/",
          "height": 0
        },
        "outputId": "a8a48c79-98ba-472c-9238-62d40830a0da"
      },
      "execution_count": 18,
      "outputs": [
        {
          "output_type": "execute_result",
          "data": {
            "text/plain": [
              "array([1, 2, 3, 4, 5])"
            ]
          },
          "metadata": {},
          "execution_count": 18
        }
      ]
    },
    {
      "cell_type": "code",
      "source": [
        "# CASO MÉDIO\n",
        "array = casoMedio(5)\n",
        "array"
      ],
      "metadata": {
        "colab": {
          "base_uri": "https://localhost:8080/",
          "height": 0
        },
        "id": "kJhIINkfyxHy",
        "outputId": "b0fa92ca-362b-4352-f6a1-628e99683507"
      },
      "execution_count": 19,
      "outputs": [
        {
          "output_type": "execute_result",
          "data": {
            "text/plain": [
              "array([89, 56, 78, 47, 46])"
            ]
          },
          "metadata": {},
          "execution_count": 19
        }
      ]
    },
    {
      "cell_type": "code",
      "source": [
        "# PIOR CASO\n",
        "array = piorCaso(5)\n",
        "array"
      ],
      "metadata": {
        "colab": {
          "base_uri": "https://localhost:8080/",
          "height": 0
        },
        "id": "IlHajIbRyxOz",
        "outputId": "9fbd6183-a4be-490b-96f8-29a7bb4d10c1"
      },
      "execution_count": 20,
      "outputs": [
        {
          "output_type": "execute_result",
          "data": {
            "text/plain": [
              "array([5, 4, 3, 2, 1])"
            ]
          },
          "metadata": {},
          "execution_count": 20
        }
      ]
    },
    {
      "cell_type": "code",
      "source": [
        "# TESTANDO A FUNÇÃO\n",
        "array = casoMedio(10)\n",
        "bubbleSort(array)"
      ],
      "metadata": {
        "colab": {
          "base_uri": "https://localhost:8080/",
          "height": 0
        },
        "id": "-XMCTiNsYUBu",
        "outputId": "1261cb09-f55c-4922-d6c7-09e6847e4420"
      },
      "execution_count": 21,
      "outputs": [
        {
          "output_type": "execute_result",
          "data": {
            "text/plain": [
              "(array([10, 37, 39, 63, 66, 67, 80, 89, 93, 95]), 114, 5.2928924560546875e-05)"
            ]
          },
          "metadata": {},
          "execution_count": 21
        }
      ]
    },
    {
      "cell_type": "code",
      "source": [
        "for i in range(1740, 1745):\n",
        "  array = piorCaso(i)\n",
        "  _, fn, elapsed = bubbleSort(array)\n",
        "  print(f'F({i}) = {fn} - Tempo = {elapsed: .10f} segundos\\n')"
      ],
      "metadata": {
        "colab": {
          "base_uri": "https://localhost:8080/",
          "height": 0
        },
        "id": "vxPcfihTecrC",
        "outputId": "a6a9e843-4079-4692-bdb2-b541976ac3de"
      },
      "execution_count": 22,
      "outputs": [
        {
          "output_type": "stream",
          "name": "stdout",
          "text": [
            "F(1740) = 6051720 - Tempo =  1.9485192299 segundos\n",
            "\n",
            "F(1741) = 6058680 - Tempo =  1.0134360790 segundos\n",
            "\n",
            "F(1742) = 6065644 - Tempo =  1.0276396275 segundos\n",
            "\n",
            "F(1743) = 6072612 - Tempo =  1.0134303570 segundos\n",
            "\n",
            "F(1744) = 6079584 - Tempo =  1.0119831562 segundos\n",
            "\n"
          ]
        }
      ]
    },
    {
      "cell_type": "markdown",
      "metadata": {
        "id": "9xAeS2N6odUE"
      },
      "source": [
        "# EXERCÍCIOS"
      ]
    },
    {
      "cell_type": "markdown",
      "source": [
        "Fazer todas as fórmulas matemática usando a Linguagem de Marcação: $L^aTe_x$"
      ],
      "metadata": {
        "id": "g38vxzIcwFd8"
      }
    },
    {
      "cell_type": "markdown",
      "source": [
        "## Letra A)"
      ],
      "metadata": {
        "id": "z8-ip9IbkXN-"
      }
    },
    {
      "cell_type": "markdown",
      "source": [
        "Faça o gráfico $f(n)$ x $n$ das 10 primeiras instâncias do problema (pior caso)."
      ],
      "metadata": {
        "id": "q1HKMl3vvpQN"
      }
    },
    {
      "cell_type": "code",
      "metadata": {
        "id": "UL_M1UXIoeKY",
        "colab": {
          "base_uri": "https://localhost:8080/",
          "height": 476
        },
        "outputId": "d9b6b7f6-41d3-4d95-b014-97d8606b5efa"
      },
      "source": [
        "LetraA()"
      ],
      "execution_count": 23,
      "outputs": [
        {
          "output_type": "display_data",
          "data": {
            "text/plain": [
              "<Figure size 640x480 with 1 Axes>"
            ],
            "image/png": "[encoded data removed]"
          },
          "metadata": {}
        }
      ]
    },
    {
      "cell_type": "markdown",
      "source": [
        "## Letra B)"
      ],
      "metadata": {
        "id": "3YrY2WBCvxZo"
      }
    },
    {
      "cell_type": "markdown",
      "source": [
        "Faça o gráfico $Tempo (milisegunndos)$ x $n$ entre os tempos de 900 a 1100 do problema (pior caso)."
      ],
      "metadata": {
        "id": "uwFme9znlP5U"
      }
    },
    {
      "cell_type": "code",
      "source": [
        "LetraB(900,1100,25)"
      ],
      "metadata": {
        "id": "cEgw2z-4lOC1",
        "colab": {
          "base_uri": "https://localhost:8080/",
          "height": 476
        },
        "outputId": "2ea2e070-44ff-4ebd-effc-00bd441b80cd"
      },
      "execution_count": 63,
      "outputs": [
        {
          "output_type": "display_data",
          "data": {
            "text/plain": [
              "<Figure size 640x480 with 1 Axes>"
            ],
            "image/png": "[encoded data removed]"
          },
          "metadata": {}
        }
      ]
    },
    {
      "cell_type": "markdown",
      "source": [
        "## Letra C)"
      ],
      "metadata": {
        "id": "89Zys8IMwvsC"
      }
    },
    {
      "cell_type": "markdown",
      "source": [
        "Qual é aproximadamente o processamento: $P$ = $\\frac{f(n)}{t}$ desta máquina em instruções por segundo?"
      ],
      "metadata": {
        "id": "VylBz8com-k6"
      }
    },
    {
      "cell_type": "markdown",
      "source": [
        "Para o valor de $t = 1$ segundo, temos que: $P$ = $\\frac{f(n)}{1}$, ou seja, $P$ = $f(n)$"
      ],
      "metadata": {
        "id": "KwfRfHN0Cbnk"
      }
    },
    {
      "cell_type": "markdown",
      "source": [
        "Qual o valor de $\\tilde{n} = ?$"
      ],
      "metadata": {
        "id": "luFeb_vvDTQW"
      }
    },
    {
      "cell_type": "code",
      "source": [
        "letraC(1000)"
      ],
      "metadata": {
        "id": "bk7OlybTypbK",
        "outputId": "b0d1fa46-75cc-4069-972f-a339f7cd46c0",
        "colab": {
          "base_uri": "https://localhost:8080/",
          "height": 0
        }
      },
      "execution_count": 40,
      "outputs": [
        {
          "output_type": "stream",
          "name": "stdout",
          "text": [
            "O valor de n para P = 1000 é aproximadamente  22.866\n"
          ]
        }
      ]
    },
    {
      "cell_type": "markdown",
      "source": [
        "## Letra D)"
      ],
      "metadata": {
        "id": "s5Sf3Ztg7QJ0"
      }
    },
    {
      "cell_type": "markdown",
      "source": [
        "Faça o rastreamento automático, usando a biblioteca Python graphviz, do algoritmo do bolha para os 3 casos, a saber:\n",
        "*   Pior Caso\n",
        "*   Melhor Caso\n",
        "*   Caso Médio"
      ],
      "metadata": {
        "id": "GFbtGKQRSzP6"
      }
    },
    {
      "cell_type": "code",
      "source": [
        "arrayP = piorCaso(5)\n",
        "arrayM = melhorCaso(5)\n",
        "array = casoMedio(5)\n",
        "grafoP = desenhar_vetor(array, \"Pior Caso\")  # Gera o desenho\n",
        "grafoM = desenhar_vetor(array, \"Melhor Caso\")  # Gera o desenho\n",
        "grafo = desenhar_vetor(array, \"Caso Médio\")  # Gera o desenho\n",
        "grafo  # Abre a visualização do gráfico"
      ],
      "metadata": {
        "colab": {
          "base_uri": "https://localhost:8080/",
          "height": 116
        },
        "id": "zljRASgB7QUt",
        "outputId": "016b9ba7-145a-4e0f-aea9-98c7d440db6f"
      },
      "execution_count": 46,
      "outputs": [
        {
          "output_type": "execute_result",
          "data": {
            "image/svg+xml": "<?xml version=\"1.0\" encoding=\"UTF-8\" standalone=\"no\"?>\n<!DOCTYPE svg PUBLIC \"-//W3C//DTD SVG 1.1//EN\"\n \"http://www.w3.org/Graphics/SVG/1.1/DTD/svg11.dtd\">\n<!-- Generated by graphviz version 2.43.0 (0)\n -->\n<!-- Title: %3 Pages: 1 -->\n<svg width=\"158pt\" height=\"71pt\"\n viewBox=\"0.00 0.00 158.00 71.00\" xmlns=\"http://www.w3.org/2000/svg\" xmlns:xlink=\"http://www.w3.org/1999/xlink\">\n<g id=\"graph0\" class=\"graph\" transform=\"scale(1 1) rotate(0) translate(4 67)\">\n<title>%3</title>\n<polygon fill=\"white\" stroke=\"transparent\" points=\"-4,4 -4,-67 154,-67 154,4 -4,4\"/>\n<text text-anchor=\"middle\" x=\"75\" y=\"-46.2\" font-family=\"Times,serif\" font-size=\"16.00\"> Caso Médio </text>\n<!-- vetor -->\n<g id=\"node1\" class=\"node\">\n<title>vetor</title>\n<polygon fill=\"lightblue\" stroke=\"black\" points=\"0,-0.5 0,-36.5 150,-36.5 150,-0.5 0,-0.5\"/>\n<text text-anchor=\"middle\" x=\"15\" y=\"-14.8\" font-family=\"Times,serif\" font-size=\"14.00\">94</text>\n<polyline fill=\"none\" stroke=\"black\" points=\"30,-0.5 30,-36.5 \"/>\n<text text-anchor=\"middle\" x=\"45\" y=\"-14.8\" font-family=\"Times,serif\" font-size=\"14.00\">19</text>\n<polyline fill=\"none\" stroke=\"black\" points=\"60,-0.5 60,-36.5 \"/>\n<text text-anchor=\"middle\" x=\"75\" y=\"-14.8\" font-family=\"Times,serif\" font-size=\"14.00\">86</text>\n<polyline fill=\"none\" stroke=\"black\" points=\"90,-0.5 90,-36.5 \"/>\n<text text-anchor=\"middle\" x=\"105\" y=\"-14.8\" font-family=\"Times,serif\" font-size=\"14.00\">16</text>\n<polyline fill=\"none\" stroke=\"black\" points=\"120,-0.5 120,-36.5 \"/>\n<text text-anchor=\"middle\" x=\"135\" y=\"-14.8\" font-family=\"Times,serif\" font-size=\"14.00\">73</text>\n</g>\n</g>\n</svg>\n",
            "text/plain": [
              "<graphviz.graphs.Digraph at 0x792251936890>"
            ]
          },
          "metadata": {},
          "execution_count": 46
        }
      ]
    },
    {
      "cell_type": "code",
      "source": [
        "grafoP"
      ],
      "metadata": {
        "id": "9jW0ooyIziJB",
        "outputId": "a5f4c227-65bf-4480-8827-4ef161308acd",
        "colab": {
          "base_uri": "https://localhost:8080/",
          "height": 116
        }
      },
      "execution_count": 47,
      "outputs": [
        {
          "output_type": "execute_result",
          "data": {
            "image/svg+xml": "<?xml version=\"1.0\" encoding=\"UTF-8\" standalone=\"no\"?>\n<!DOCTYPE svg PUBLIC \"-//W3C//DTD SVG 1.1//EN\"\n \"http://www.w3.org/Graphics/SVG/1.1/DTD/svg11.dtd\">\n<!-- Generated by graphviz version 2.43.0 (0)\n -->\n<!-- Title: %3 Pages: 1 -->\n<svg width=\"158pt\" height=\"71pt\"\n viewBox=\"0.00 0.00 158.00 71.00\" xmlns=\"http://www.w3.org/2000/svg\" xmlns:xlink=\"http://www.w3.org/1999/xlink\">\n<g id=\"graph0\" class=\"graph\" transform=\"scale(1 1) rotate(0) translate(4 67)\">\n<title>%3</title>\n<polygon fill=\"white\" stroke=\"transparent\" points=\"-4,4 -4,-67 154,-67 154,4 -4,4\"/>\n<text text-anchor=\"middle\" x=\"75\" y=\"-46.2\" font-family=\"Times,serif\" font-size=\"16.00\"> Pior Caso </text>\n<!-- vetor -->\n<g id=\"node1\" class=\"node\">\n<title>vetor</title>\n<polygon fill=\"lightblue\" stroke=\"black\" points=\"0,-0.5 0,-36.5 150,-36.5 150,-0.5 0,-0.5\"/>\n<text text-anchor=\"middle\" x=\"15\" y=\"-14.8\" font-family=\"Times,serif\" font-size=\"14.00\">94</text>\n<polyline fill=\"none\" stroke=\"black\" points=\"30,-0.5 30,-36.5 \"/>\n<text text-anchor=\"middle\" x=\"45\" y=\"-14.8\" font-family=\"Times,serif\" font-size=\"14.00\">19</text>\n<polyline fill=\"none\" stroke=\"black\" points=\"60,-0.5 60,-36.5 \"/>\n<text text-anchor=\"middle\" x=\"75\" y=\"-14.8\" font-family=\"Times,serif\" font-size=\"14.00\">86</text>\n<polyline fill=\"none\" stroke=\"black\" points=\"90,-0.5 90,-36.5 \"/>\n<text text-anchor=\"middle\" x=\"105\" y=\"-14.8\" font-family=\"Times,serif\" font-size=\"14.00\">16</text>\n<polyline fill=\"none\" stroke=\"black\" points=\"120,-0.5 120,-36.5 \"/>\n<text text-anchor=\"middle\" x=\"135\" y=\"-14.8\" font-family=\"Times,serif\" font-size=\"14.00\">73</text>\n</g>\n</g>\n</svg>\n",
            "text/plain": [
              "<graphviz.graphs.Digraph at 0x79225181e390>"
            ]
          },
          "metadata": {},
          "execution_count": 47
        }
      ]
    },
    {
      "cell_type": "code",
      "source": [
        "grafoM"
      ],
      "metadata": {
        "id": "OQgvcfpSzkgp",
        "outputId": "37ae6cd5-3ab8-4b8d-c674-f1535e410cf6",
        "colab": {
          "base_uri": "https://localhost:8080/",
          "height": 116
        }
      },
      "execution_count": 48,
      "outputs": [
        {
          "output_type": "execute_result",
          "data": {
            "image/svg+xml": "<?xml version=\"1.0\" encoding=\"UTF-8\" standalone=\"no\"?>\n<!DOCTYPE svg PUBLIC \"-//W3C//DTD SVG 1.1//EN\"\n \"http://www.w3.org/Graphics/SVG/1.1/DTD/svg11.dtd\">\n<!-- Generated by graphviz version 2.43.0 (0)\n -->\n<!-- Title: %3 Pages: 1 -->\n<svg width=\"158pt\" height=\"71pt\"\n viewBox=\"0.00 0.00 158.00 71.00\" xmlns=\"http://www.w3.org/2000/svg\" xmlns:xlink=\"http://www.w3.org/1999/xlink\">\n<g id=\"graph0\" class=\"graph\" transform=\"scale(1 1) rotate(0) translate(4 67)\">\n<title>%3</title>\n<polygon fill=\"white\" stroke=\"transparent\" points=\"-4,4 -4,-67 154,-67 154,4 -4,4\"/>\n<text text-anchor=\"middle\" x=\"75\" y=\"-46.2\" font-family=\"Times,serif\" font-size=\"16.00\"> Melhor Caso </text>\n<!-- vetor -->\n<g id=\"node1\" class=\"node\">\n<title>vetor</title>\n<polygon fill=\"lightblue\" stroke=\"black\" points=\"0,-0.5 0,-36.5 150,-36.5 150,-0.5 0,-0.5\"/>\n<text text-anchor=\"middle\" x=\"15\" y=\"-14.8\" font-family=\"Times,serif\" font-size=\"14.00\">94</text>\n<polyline fill=\"none\" stroke=\"black\" points=\"30,-0.5 30,-36.5 \"/>\n<text text-anchor=\"middle\" x=\"45\" y=\"-14.8\" font-family=\"Times,serif\" font-size=\"14.00\">19</text>\n<polyline fill=\"none\" stroke=\"black\" points=\"60,-0.5 60,-36.5 \"/>\n<text text-anchor=\"middle\" x=\"75\" y=\"-14.8\" font-family=\"Times,serif\" font-size=\"14.00\">86</text>\n<polyline fill=\"none\" stroke=\"black\" points=\"90,-0.5 90,-36.5 \"/>\n<text text-anchor=\"middle\" x=\"105\" y=\"-14.8\" font-family=\"Times,serif\" font-size=\"14.00\">16</text>\n<polyline fill=\"none\" stroke=\"black\" points=\"120,-0.5 120,-36.5 \"/>\n<text text-anchor=\"middle\" x=\"135\" y=\"-14.8\" font-family=\"Times,serif\" font-size=\"14.00\">73</text>\n</g>\n</g>\n</svg>\n",
            "text/plain": [
              "<graphviz.graphs.Digraph at 0x7922519a5a90>"
            ]
          },
          "metadata": {},
          "execution_count": 48
        }
      ]
    },
    {
      "cell_type": "markdown",
      "source": [],
      "metadata": {
        "id": "MHWTLURCzh-Z"
      }
    }
  ]
}