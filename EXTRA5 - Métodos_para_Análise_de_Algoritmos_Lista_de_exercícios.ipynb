{
  "nbformat": 4,
  "nbformat_minor": 0,
  "metadata": {
    "colab": {
      "provenance": [],
      "include_colab_link": true
    },
    "kernelspec": {
      "name": "python3",
      "display_name": "Python 3"
    }
  },
  "cells": [
    {
      "cell_type": "markdown",
      "metadata": {
        "id": "view-in-github",
        "colab_type": "text"
      },
      "source": [
        "<a href=\"https://colab.research.google.com/github/PauloRhyanK/ProjetoeAnaliseAlgoritimos/blob/main/EXTRA5%20-%20M%C3%A9todos_para_An%C3%A1lise_de_Algoritmos_Lista_de_exerc%C3%ADcios.ipynb\" target=\"_parent\"><img src=\"https://colab.research.google.com/assets/colab-badge.svg\" alt=\"Open In Colab\"/></a>"
      ]
    },
    {
      "cell_type": "markdown",
      "metadata": {
        "id": "G90zxY79qIXe"
      },
      "source": [
        "\n",
        "<html>\n",
        "  <body>\n",
        "    <header></header>\n",
        "        <CENTER>\n",
        "          <img src=\"https://uvv.br/wp-content/themes/core/dist/images/Logo@2x.png\" alt=\"UVV-LOGO\" style = width=\"100px\"; height=\"100px\">\n",
        "        </CENTER>\n",
        "        <CENTER>\n",
        "          <b>\n",
        "            <font size=\"5\">Métodos para Análise de Algoritmos\n",
        "          </b>\n",
        "          </CENTER>\n",
        "        <CENTER><b>Lista de exercícios</b></CENTER><br/>\n",
        "        </font>"
      ]
    },
    {
      "cell_type": "markdown",
      "metadata": {
        "id": "_Kanz0T-rhol"
      },
      "source": [
        "## BIBLIOTECA / FUNÇÕES"
      ]
    },
    {
      "cell_type": "markdown",
      "source": [
        "COLAB: [Link]()"
      ],
      "metadata": {
        "id": "koY2aomhEh-L"
      }
    },
    {
      "cell_type": "code",
      "source": [
        "import numpy\n",
        "import time"
      ],
      "metadata": {
        "id": "Mmg91VilSlU0"
      },
      "execution_count": null,
      "outputs": []
    },
    {
      "cell_type": "code",
      "source": [
        "array = numpy.random.choice(numpy.arange(10, 100, 1), 10, replace = False)\n",
        "array"
      ],
      "metadata": {
        "colab": {
          "base_uri": "https://localhost:8080/"
        },
        "id": "YuVYIe7TBkEY",
        "outputId": "727035c0-dc7a-4867-a738-594bdcd7fec9"
      },
      "execution_count": null,
      "outputs": [
        {
          "output_type": "execute_result",
          "data": {
            "text/plain": [
              "array([57, 86, 83, 24, 91, 20, 55, 69, 65, 36])"
            ]
          },
          "metadata": {},
          "execution_count": 2
        }
      ]
    },
    {
      "cell_type": "markdown",
      "metadata": {
        "id": "9xAeS2N6odUE"
      },
      "source": [
        "## Exercícios"
      ]
    },
    {
      "cell_type": "markdown",
      "source": [
        "#Exercício 1:"
      ],
      "metadata": {
        "id": "z8-ip9IbkXN-"
      }
    },
    {
      "cell_type": "markdown",
      "source": [
        "Esrever um algoritmo que teste se a soma de dois números quaisquer de um vetor é ou não igaul a um X.\n",
        "\n",
        "Fazer a solução:\n",
        "*   Vetor aleatório\n",
        "*   Vetor ordenado"
      ],
      "metadata": {
        "id": "3YeTeMQLwGTa"
      }
    },
    {
      "cell_type": "code",
      "source": [],
      "metadata": {
        "id": "nBpFrJgEwGdz"
      },
      "execution_count": null,
      "outputs": []
    },
    {
      "cell_type": "code",
      "source": [],
      "metadata": {
        "id": "o4EQHZi4wlIS"
      },
      "execution_count": null,
      "outputs": []
    },
    {
      "cell_type": "markdown",
      "source": [
        "#Exercício 2:"
      ],
      "metadata": {
        "id": "pSMZV3dAwlTa"
      }
    },
    {
      "cell_type": "markdown",
      "source": [
        "Exibir, por engenharia reversa, o valor das função de complexidade das 10 primeiras instâncias."
      ],
      "metadata": {
        "id": "-7r_B3W5w8hq"
      }
    },
    {
      "cell_type": "code",
      "source": [],
      "metadata": {
        "id": "SV6Ldosuwlgd"
      },
      "execution_count": null,
      "outputs": []
    },
    {
      "cell_type": "code",
      "source": [],
      "metadata": {
        "id": "6J-Pw3cpxHx9"
      },
      "execution_count": null,
      "outputs": []
    }
  ]
}