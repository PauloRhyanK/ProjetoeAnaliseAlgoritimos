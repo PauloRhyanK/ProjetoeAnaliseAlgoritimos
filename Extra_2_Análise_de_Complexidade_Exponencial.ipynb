{
  "nbformat": 4,
  "nbformat_minor": 0,
  "metadata": {
    "colab": {
      "provenance": [],
      "include_colab_link": true
    },
    "kernelspec": {
      "name": "python3",
      "display_name": "Python 3"
    }
  },
  "cells": [
    {
      "cell_type": "markdown",
      "metadata": {
        "id": "view-in-github",
        "colab_type": "text"
      },
      "source": [
        "<a href=\"https://colab.research.google.com/github/PauloRhyanK/ProjetoeAnaliseAlgoritimos/blob/main/Extra_2_An%C3%A1lise_de_Complexidade_Exponencial.ipynb\" target=\"_parent\"><img src=\"https://colab.research.google.com/assets/colab-badge.svg\" alt=\"Open In Colab\"/></a>"
      ]
    },
    {
      "cell_type": "markdown",
      "metadata": {
        "id": "G90zxY79qIXe"
      },
      "source": [
        "\n",
        "<html>\n",
        "  <body>\n",
        "    <header></header>\n",
        "        <CENTER>\n",
        "          <img src=\"https://uvv.br/wp-content/themes/core/dist/images/Logo@2x.png\" alt=\"UVV-LOGO\" style = width=\"100px\"; height=\"100px\">\n",
        "        </CENTER>\n",
        "        <CENTER>\n",
        "          <b>\n",
        "            <font size=\"5\">PROJETO E ANÁLISE DE ALGORITMOS\n",
        "          </b>\n",
        "          </CENTER>\n",
        "        <CENTER><b>ANÁLISE DE COMPLEXIDADE EXPONENCIAL</b></CENTER><br/>\n",
        "        </font>"
      ]
    },
    {
      "cell_type": "markdown",
      "source": [
        "COLAB: [Link]()"
      ],
      "metadata": {
        "id": "koY2aomhEh-L"
      }
    },
    {
      "cell_type": "markdown",
      "metadata": {
        "id": "_Kanz0T-rhol"
      },
      "source": [
        "# BIBLIOTECAS"
      ]
    },
    {
      "cell_type": "code",
      "source": [
        "import numpy as np\n",
        "import time\n",
        "import matplotlib.pyplot as plt\n",
        "import graphviz"
      ],
      "metadata": {
        "id": "Mmg91VilSlU0"
      },
      "execution_count": 15,
      "outputs": []
    },
    {
      "cell_type": "markdown",
      "source": [
        "# FUNÇÕES"
      ],
      "metadata": {
        "id": "5dircNoFxfpk"
      }
    },
    {
      "cell_type": "code",
      "source": [],
      "metadata": {
        "id": "fRAwx9-wS2jo"
      },
      "execution_count": 10,
      "outputs": []
    },
    {
      "cell_type": "markdown",
      "metadata": {
        "id": "9xAeS2N6odUE"
      },
      "source": [
        "# EXERCÍCIOS"
      ]
    },
    {
      "cell_type": "markdown",
      "source": [
        "Fazer todas as fórmulas matemática usando a Linguagem de Marcação: $L^aTe_x$"
      ],
      "metadata": {
        "id": "g38vxzIcwFd8"
      }
    },
    {
      "cell_type": "markdown",
      "source": [],
      "metadata": {
        "id": "_dVDBJKwqcQL"
      }
    },
    {
      "cell_type": "markdown",
      "source": [
        "# 1) TÍTULO: Análise de Complexidade Exponencial"
      ],
      "metadata": {
        "id": "z8-ip9IbkXN-"
      }
    },
    {
      "cell_type": "markdown",
      "source": [
        "A análise de complexidade exponencial refere-se à avaliação de algoritmos cujo tempo de execução (ou espaço) cresce exponencialmente com o tamanho da entrada. Em termos práticos, isso significa que, conforme o tamanho dos dados de entrada aumenta, os recursos necessários para resolver o problema aumentam de forma extremamente rápida – tipicamente, da ordem de O(2ⁿ) ou similar.\n",
        "\n",
        "### Conceitos-Chave\n",
        "\n",
        "- **Tempo de Execução:**  \n",
        "  Em algoritmos exponenciais, dobrar o tamanho da entrada pode, por exemplo, elevar o tempo de execução a uma potência, tornando impraticável resolver instâncias maiores.\n",
        "\n",
        "- **Exemplo Clássico:**  \n",
        "  Um exemplo é o algoritmo de força bruta para o problema do caixeiro viajante, onde a quantidade de caminhos a serem avaliados cresce exponencialmente conforme o número de cidades aumenta.\n",
        "\n",
        "- **Comparação com Outras Complexidades:**  \n",
        "  - **Polinomial (por exemplo, O(n²), O(n³)):** O tempo cresce de forma mais “suave” e escalável.\n",
        "  - **Exponencial:** O crescimento é muito mais acentuado, levando a tempos de execução inviáveis mesmo para entradas moderadamente grandes.\n",
        "\n",
        "### Importância na Ciência da Computação\n",
        "\n",
        "A análise de algoritmos exponenciais é fundamental para:\n",
        "- **Identificar Limitações:** Compreender os limites práticos de um algoritmo e identificar quando uma abordagem pode não ser escalável.\n",
        "- **Desenvolver Algoritmos mais Eficientes:** Incentivar a busca por métodos aproximados ou heurísticos que possam oferecer soluções aceitáveis sem explorar todo o espaço exponencial de possibilidades.\n",
        "\n",
        "### Estratégias para Lidar com Complexidade Exponencial\n",
        "\n",
        "1. **Heurísticas e Algoritmos Aproximados:**  \n",
        "   Em muitos problemas onde a solução ótima é difícil de ser encontrada em tempo razoável, algoritmos aproximados podem oferecer soluções “boas o suficiente” de forma mais rápida.\n",
        "\n",
        "2. **Programação Dinâmica:**  \n",
        "   Alguns problemas inicialmente exponenciais podem ser otimizados para uma complexidade polinomial através da reutilização de subsoluções já calculadas.\n",
        "\n",
        "3. **Divisão e Conquista:**  \n",
        "   Em certos casos, a técnica de dividir o problema em subproblemas menores pode reduzir a complexidade prática, mesmo que a solução completa ainda tenha um componente exponencial.\n",
        "\n",
        "### Conclusão\n",
        "\n",
        "A análise de complexidade exponencial é essencial para entender e prever o comportamento de algoritmos em termos de tempo e recursos necessários, especialmente para problemas que podem ser inviáveis em larga escala. Reconhecer um algoritmo exponencial permite aos desenvolvedores e pesquisadores buscar estratégias alternativas para melhorar o desempenho e a viabilidade prática dos métodos implementados."
      ],
      "metadata": {
        "id": "03JESiOYqavD"
      }
    },
    {
      "cell_type": "markdown",
      "source": [
        "# 2) O algoritmo exponencial do Simplex em Pseudocódigo e Python (Executar o algoritmo para No + 2 instâncias)\n",
        "\n"
      ],
      "metadata": {
        "id": "f_Lf-y8Dqkni"
      }
    },
    {
      "cell_type": "markdown",
      "source": [
        "```\n",
        " Algoritmo SIMPLEX(c, A, b)\n",
        "Entrada:\n",
        "    c: vetor de custos (dimensão n)\n",
        "    A: matriz de restrições (m x n)\n",
        "    b: vetor dos termos independentes (dimensão m)\n",
        "    \n",
        "1. Converter o problema para a forma padrão:\n",
        "   a. Adicionar m variáveis de folga para transformar cada inequação em igualdade.\n",
        "   b. Construir a tabela simplex inicial:\n",
        "         - Linhas 1 a m: coeficientes de A, matriz identidade (para folgas) e coluna b.\n",
        "         - Última linha: -c (coeficientes da função objetivo) e zeros para as folgas e o lado direito.\n",
        "\n",
        "2. Inicializar o conjunto de variáveis básicas com os índices das variáveis de folga.\n",
        "\n",
        "3. Enquanto existir alguma coluna na linha de custo (linha da função objetivo) com valor negativo:\n",
        "   a. Selecionar a coluna j* com o menor valor (mais negativo) na linha de custo.\n",
        "   b. Para cada linha i onde o elemento na coluna j* é positivo, calcular a razão:\n",
        "          razão[i] = (elemento na coluna RHS da linha i) / (A[i][j*]).\n",
        "   c. Se nenhuma razão puder ser calculada (ou seja, nenhum elemento positivo em j*), então:\n",
        "          → Retorne \"Problema Ilimitado\".\n",
        "   d. Selecione a linha i* com o menor valor da razão (teste da razão).\n",
        "   e. Realize o pivô na posição (i*, j*):\n",
        "          - Divida a linha i* pelo elemento pivô.\n",
        "          - Para cada outra linha, subtraia um múltiplo adequado da linha pivô para zerar o elemento na coluna j*.\n",
        "          - Atualize o conjunto de variáveis básicas, substituindo a variável que estava na linha i* pela variável j*.\n",
        "\n",
        "4. Ao final, quando não houver mais custo negativo, extraia a solução:\n",
        "   - Para cada variável de decisão (não-folga), se ela for básica, seu valor é o correspondente na coluna RHS.\n",
        "   - O valor ótimo é dado na última coluna da linha de custo.\n",
        "\n",
        "5. Retorne a solução ótima e o valor da função objetivo.\n",
        "```\n",
        "\n"
      ],
      "metadata": {
        "id": "GHHtBm_7s9IG"
      }
    },
    {
      "cell_type": "code",
      "source": [
        "import numpy as np\n",
        "\n",
        "def simplex(c, A, b):\n",
        "    \"\"\"\n",
        "    Implementação básica do método Simplex para problemas de maximização.\n",
        "    Entradas:\n",
        "      c : vetor de custos (dimensão n)\n",
        "      A : matriz de restrições (m x n)\n",
        "      b : vetor do lado direito (dimensão m)\n",
        "    Retorna:\n",
        "      x : vetor solução (dimensão n)\n",
        "      optimal_value : valor ótimo da função objetivo\n",
        "    \"\"\"\n",
        "    m, n = A.shape\n",
        "\n",
        "    # Construir a tabela simplex: dimensões (m+1) x (n + m + 1)\n",
        "    # Colunas: variáveis de decisão (n), variáveis de folga (m) e coluna RHS\n",
        "    tableau = np.zeros((m+1, n+m+1))\n",
        "\n",
        "    # Preencher as linhas de restrição: A, identidade para folgas e coluna b\n",
        "    tableau[:m, :n] = A\n",
        "    tableau[:m, n:n+m] = np.eye(m)\n",
        "    tableau[:m, -1] = b\n",
        "\n",
        "    # Linha da função objetivo: usamos -c (para maximização)\n",
        "    tableau[m, :n] = -c\n",
        "\n",
        "    # Conjunto inicial de variáveis básicas (índices das variáveis de folga)\n",
        "    basis = list(range(n, n+m))\n",
        "\n",
        "    # Loop principal do Simplex\n",
        "    while True:\n",
        "        # Escolher variável de entrada: coluna com menor valor na linha objetivo\n",
        "        col = np.argmin(tableau[m, :n+m])\n",
        "        if tableau[m, col] >= 0:\n",
        "            # Não há mais melhoria: solução ótima encontrada\n",
        "            break\n",
        "\n",
        "        # Teste da razão: determinar qual variável sairá da base\n",
        "        ratios = []\n",
        "        for i in range(m):\n",
        "            if tableau[i, col] > 0:\n",
        "                ratios.append(tableau[i, -1] / tableau[i, col])\n",
        "            else:\n",
        "                ratios.append(np.inf)\n",
        "        row = np.argmin(ratios)\n",
        "        if ratios[row] == np.inf:\n",
        "            raise Exception(\"Problema Ilimitado\")\n",
        "\n",
        "        # Operação de pivô na posição (row, col)\n",
        "        pivot = tableau[row, col]\n",
        "        tableau[row, :] = tableau[row, :] / pivot\n",
        "        for i in range(m+1):\n",
        "            if i != row:\n",
        "                tableau[i, :] -= tableau[i, col] * tableau[row, :]\n",
        "\n",
        "        # Atualizar a base: a variável da coluna 'col' passa a ser básica na linha 'row'\n",
        "        basis[row] = col\n",
        "\n",
        "    # Extrair a solução: para as variáveis de decisão (colunas 0 a n-1)\n",
        "    x = np.zeros(n)\n",
        "    for i in range(m):\n",
        "        if basis[i] < n:\n",
        "            x[basis[i]] = tableau[i, -1]\n",
        "    optimal_value = tableau[m, -1]\n",
        "    return x, optimal_value\n",
        "\n",
        "def gerar_instance_klee_minty(n):\n",
        "    \"\"\"\n",
        "    Gera uma instância do problema de Klee-Minty com n variáveis.\n",
        "    Retorna:\n",
        "      c : vetor de custos (dimensão n)\n",
        "      A : matriz de restrições (n x n)\n",
        "      b : vetor do lado direito (dimensão n)\n",
        "    O problema é:\n",
        "      Maximizar ∑ (j=0 a n-1) 10^(n-1-j) * x_j\n",
        "      sujeito a, para i=0 a n-1:\n",
        "          ∑ (j=0 a i) 10^(i-j) * x_j <= 10^(i)\n",
        "          x_j >= 0\n",
        "    \"\"\"\n",
        "    A = np.zeros((n, n))\n",
        "    b = np.zeros(n)\n",
        "    for i in range(n):\n",
        "        b[i] = 10**(i)  # b[i] = 10^i\n",
        "        for j in range(i+1):\n",
        "            A[i, j] = 10**(i - j)\n",
        "    # Vetor de custos: c[j] = 10^(n-1-j)\n",
        "    c = np.array([10**(n-1-j) for j in range(n)])\n",
        "    return c, A, b\n",
        "\n",
        "\n",
        "# Definir n0 e executar para n0 e n0+2 variáveis\n",
        "n0 = 2\n",
        "for n in [n0, n0+2]:\n",
        "    print(f\"\\nExecutando Simplex para n = {n}\")\n",
        "    c, A, b = gerar_instance_klee_minty(n)\n",
        "    try:\n",
        "        x, optimal_value = simplex(c, A, b)\n",
        "        print(\"Solução ótima encontrada:\")\n",
        "        print(\"x =\", x)\n",
        "        print(\"Valor ótimo =\", optimal_value)\n",
        "    except Exception as e:\n",
        "        print(\"Erro:\", e)\n",
        "\n"
      ],
      "metadata": {
        "id": "-o1eFFkdkvMK",
        "outputId": "182e8c78-da22-489f-cc98-eee6d6893d1a",
        "colab": {
          "base_uri": "https://localhost:8080/"
        }
      },
      "execution_count": 23,
      "outputs": [
        {
          "output_type": "stream",
          "name": "stdout",
          "text": [
            "\n",
            "Executando Simplex para n = 2\n",
            "Solução ótima encontrada:\n",
            "x = [1. 0.]\n",
            "Valor ótimo = 10.0\n",
            "\n",
            "Executando Simplex para n = 4\n",
            "Solução ótima encontrada:\n",
            "x = [1. 0. 0. 0.]\n",
            "Valor ótimo = 1000.0\n"
          ]
        }
      ]
    },
    {
      "cell_type": "code",
      "source": [
        "def simplex(c, A, b):\n",
        "    \"\"\"\n",
        "    Implementação básica do método Simplex para problemas de maximização.\n",
        "    \"\"\"\n",
        "    m, n = A.shape\n",
        "\n",
        "    # Construir a tabela simplex: dimensões (m+1) x (n + m + 1)\n",
        "    tableau = np.zeros((m+1, n+m+1))\n",
        "\n",
        "    # Preencher as linhas de restrição: A, identidade para folgas e coluna b\n",
        "    tableau[:m, :n] = A\n",
        "    tableau[:m, n:n+m] = np.eye(m)\n",
        "    tableau[:m, -1] = b\n",
        "\n",
        "    # Linha da função objetivo: usamos -c (para maximização)\n",
        "    tableau[m, :n] = -c\n",
        "\n",
        "    # Conjunto inicial de variáveis básicas (índices das variáveis de folga)\n",
        "    basis = list(range(n, n+m))\n",
        "\n",
        "    # Loop principal do Simplex\n",
        "    while True:\n",
        "        col = np.argmin(tableau[m, :n+m])\n",
        "        if tableau[m, col] >= 0:\n",
        "            break\n",
        "\n",
        "        # Teste da razão: determinar qual variável sairá da base\n",
        "        ratios = []\n",
        "        for i in range(m):\n",
        "            if tableau[i, col] > 0:\n",
        "                ratios.append(tableau[i, -1] / tableau[i, col])\n",
        "            else:\n",
        "                ratios.append(np.inf)\n",
        "        row = np.argmin(ratios)\n",
        "        if ratios[row] == np.inf:\n",
        "            raise Exception(\"Problema Ilimitado\")\n",
        "\n",
        "        # Operação de pivô na posição (row, col)\n",
        "        pivot = tableau[row, col]\n",
        "        tableau[row, :] /= pivot\n",
        "        for i in range(m+1):\n",
        "            if i != row:\n",
        "                tableau[i, :] -= tableau[i, col] * tableau[row, :]\n",
        "\n",
        "        # Atualizar a base\n",
        "        basis[row] = col\n",
        "\n",
        "    # Extrair a solução\n",
        "    x = np.zeros(n)\n",
        "    for i in range(m):\n",
        "        if basis[i] < n:\n",
        "            x[basis[i]] = tableau[i, -1]\n",
        "    optimal_value = tableau[m, -1]\n",
        "    return x, optimal_value\n",
        "\n"
      ],
      "metadata": {
        "id": "gW6Vk1yYw2Ov"
      },
      "execution_count": 21,
      "outputs": []
    },
    {
      "cell_type": "code",
      "source": [
        "# Definição da entrada\n",
        "A = np.array([[-1, 5, -2],\n",
        "              [ 2, -3,  7],\n",
        "              [-7, 9, -6]], dtype=float)\n",
        "b = np.array([10, -2, 8], dtype=float)\n",
        "\n",
        "# Função objetivo fictícia (podemos maximizar a soma das variáveis)\n",
        "c = np.array([1, 1, 1], dtype=float)\n",
        "\n",
        "# Resolver o problema\n",
        "x, optimal_value = simplex(c, A, b)\n",
        "\n",
        "# Exibir os resultados\n",
        "print(\"Solução do sistema via Simplex:\")\n",
        "print(f\"x = {x[0]:.3f}\")\n",
        "print(f\"y = {x[1]:.3f}\")\n",
        "print(f\"z = {x[2]:.3f}\")\n",
        "print(f\"Valor ótimo = {optimal_value:.3f}\")"
      ],
      "metadata": {
        "id": "JwFAPfUpww8v",
        "outputId": "dede6636-4871-488d-baa4-977e57e1d376",
        "colab": {
          "base_uri": "https://localhost:8080/"
        }
      },
      "execution_count": 22,
      "outputs": [
        {
          "output_type": "stream",
          "name": "stdout",
          "text": [
            "Solução do sistema via Simplex:\n",
            "x = 2.857\n",
            "y = 2.571\n",
            "z = 0.000\n",
            "Valor ótimo = 5.429\n"
          ]
        }
      ]
    },
    {
      "cell_type": "markdown",
      "source": [
        "\n",
        "\n",
        "## Explicação\n",
        "\n",
        "- **Geração da instância (função `gerar_instance_klee_minty`):**  \n",
        "  Essa função constrói uma matriz \\( A \\) triangular inferior em que os coeficientes são potências de 10, define o vetor \\( b \\) com termos \\( 10^i \\) e o vetor de custos \\( c \\) de forma que a função objetivo seja, por exemplo,  \n",
        "  \\[\n",
        "  \\text{Maximizar } 10^{n-1} x_1 + 10^{n-2} x_2 + \\cdots + 1\\cdot x_n.\n",
        "  \\]\n",
        "  Essa formulação é inspirada no exemplo de Klee-Minty, conhecido por forçar o algoritmo Simplex a explorar um caminho exponencial em casos piores.\n",
        "\n",
        "- **Implementação do Simplex:**  \n",
        "  A função `simplex` monta uma tabela (tableau) que inclui as variáveis de decisão e as de folga. Em cada iteração, ela seleciona a variável que melhor melhora o valor da função objetivo (usando o teste do menor coeficiente na linha objetivo) e determina qual variável sairá da base pelo teste da razão. Em seguida, realiza o pivô e repete o processo até que não existam mais coeficientes negativos na linha de custo.\n",
        "\n",
        "- **Execução para duas instâncias:**  \n",
        "  No `main()`, o código executa o Simplex para uma instância com \\( n_0 \\) variáveis (neste exemplo, 2) e outra com \\( n_0+2 \\) (ou seja, 4 variáveis). Essa abordagem pode ajudar a visualizar como o algoritmo se comporta conforme o tamanho do problema aumenta – lembrando que, em casos patológicos, o número de iterações pode crescer de forma exponencial.\n",
        "\n",
        "---\n",
        "\n",
        "Este exemplo serve para demonstrar tanto a ideia do algoritmo Simplex quanto como certas instâncias (como a de Klee-Minty) podem levar a um comportamento exponencial em termos de iterações, apesar de o algoritmo ser geralmente eficiente na prática."
      ],
      "metadata": {
        "id": "_l0lKj5HqxUq"
      }
    },
    {
      "cell_type": "markdown",
      "source": [
        "# 3) Solicitar a Análise de Complexidade e Notação Assintótica: Pior, Melhor e Caso Médio."
      ],
      "metadata": {
        "id": "YJuLfFyjrKJq"
      }
    },
    {
      "cell_type": "markdown",
      "source": [
        "#### **Análise de Complexidade do Algoritmo Simplex**\n",
        "O algoritmo Simplex é um método iterativo para resolver problemas de Programação Linear (PL). Seu tempo de execução depende da quantidade de variáveis, restrições e da escolha dos pivôs ao longo das iterações. Existem três cenários principais para sua análise de complexidade:\n",
        "\n",
        "- **Melhor Caso**: Quando a solução ótima é encontrada rapidamente, o número de iterações pode ser **linear** no número de restrições.\n",
        "- **Pior Caso**: Para instâncias especialmente construídas (como o exemplo de Klee-Minty), o algoritmo pode percorrer um número **exponencial** de vértices.\n",
        "- **Caso Médio**: Na prática, o Simplex se comporta de maneira **pseudopolinomial**, resolvendo muitos problemas rapidamente.\n",
        "\n",
        "A seguir, analisamos cada caso detalhadamente.\n",
        "\n",
        "---\n",
        "\n",
        "#### **1. Pior Caso: O(2ⁿ)**\n",
        "O pior caso ocorre em instâncias patológicas, como as construídas por **Klee e Minty**, onde o algoritmo Simplex percorre **todos os vértices do politopo** (caminho exponencial).  \n",
        "\n",
        "- O número de iterações no pior caso pode chegar a **O(2ⁿ)**, onde **n** é o número de variáveis.\n",
        "- Isso ocorre porque o Simplex segue um caminho degenerado ao longo dos vértices de um politopo altamente distorcido.\n",
        "- Este comportamento foi demonstrado por Klee-Minty com um politopo que força o Simplex a explorar **todos os 2ⁿ vértices** antes de encontrar a solução ótima.\n",
        "\n",
        "📌 **Exemplo prático**:  \n",
        "Se tivermos **n = 10** variáveis, o número de iterações pode chegar a **2¹⁰ = 1024**, tornando-se inviável para valores maiores de **n**.\n",
        "\n",
        "---\n",
        "\n",
        "####  **2. Melhor Caso: O(m)**\n",
        "O melhor caso ocorre quando:\n",
        "- A escolha da variável pivô é feita de maneira ótima.\n",
        "- A solução é encontrada em poucas iterações, independentemente do número de variáveis.\n",
        "\n",
        "Neste caso:\n",
        "- O algoritmo encontra a solução em **no máximo m** iterações, onde **m** é o número de restrições.\n",
        "- O tempo de cada iteração depende da **escolha do pivô**, que geralmente pode ser feito em **O(nm)** operações.\n",
        "- Portanto, no melhor caso, **a complexidade total é O(mn)**.\n",
        "\n",
        "📌 **Exemplo prático**:  \n",
        "Se tivermos um problema com **100 variáveis e 50 restrições**, e a solução for encontrada rapidamente, o número de iterações será **≤ 50**, resultando em tempo **O(50 × 100) = O(5000)**.\n",
        "\n",
        "---\n",
        "\n",
        "#### **3. Caso Médio: O(n³) ~ O(n⁶)**\n",
        "O caso médio é um pouco mais difícil de definir, pois depende da distribuição estatística dos problemas de PL. Contudo, estudos práticos e experimentais indicam que:\n",
        "\n",
        "- Para **m restrições** e **n variáveis**, o número médio de iterações é **O(n) ou O(n²)**.\n",
        "- O custo de cada iteração envolve:\n",
        "  - Encontrar a variável pivô: **O(mn)**.\n",
        "  - Atualizar a tabela simplex: **O(nm)**.\n",
        "  - Resolver o sistema linear associado (eliminação de Gauss): **O(n²)**.\n",
        "\n",
        "Assim, a complexidade do Simplex no caso médio geralmente é **entre O(n³) e O(n⁶)**.\n",
        "\n",
        "📌 **Exemplo prático**:  \n",
        "Para **n = 100**, o número de iterações esperado pode ser **100 ou 10.000**, levando a complexidade **O(100³) = O(1.000.000)** no pior cenário do caso médio.\n",
        "\n",
        "---\n",
        "\n",
        "#### **Resumo da Notação Assintótica**\n",
        "| Caso         | Número de Iterações | Custo por Iteração | Complexidade Total |\n",
        "|-------------|--------------------|-------------------|--------------------|\n",
        "| Melhor Caso | O(n)               | O(nm)            | O(mn)             |\n",
        "| Caso Médio  | O(n) ~ O(n²)        | O(nm)            | O(n³) ~ O(n⁶)     |\n",
        "| Pior Caso   | O(2ⁿ)               | O(nm)            | O(2ⁿ)             |\n",
        "\n",
        "#### **Conclusões**\n",
        "- O Simplex **funciona muito bem na prática** e é amplamente utilizado em problemas reais.\n",
        "- Em casos normais, ele se comporta **quase polinomialmente (O(n³) ~ O(n⁶))**.\n",
        "- No **pior caso (O(2ⁿ))**, ele pode ser impraticável, tornando necessário o uso de algoritmos alternativos como **o método do ponto interior (que tem complexidade polinomial O(n³))**.\n",
        "\n",
        "🚀 **Conclusão final:**  \n",
        "Apesar do pior caso exponencial, o Simplex continua sendo um dos algoritmos mais usados devido ao seu desempenho eficiente na maioria dos problemas práticos."
      ],
      "metadata": {
        "id": "OihD6y2MrYoa"
      }
    },
    {
      "cell_type": "markdown",
      "source": [
        "# 4) Para o Pior Caso (Notação Big O): A Função de Complexidade exata deste algoritmo."
      ],
      "metadata": {
        "id": "8hfrCo5hrewa"
      }
    },
    {
      "cell_type": "markdown",
      "source": [
        "Para determinar a **função de complexidade exata** do algoritmo Simplex no pior caso, precisamos considerar quantas operações são realizadas por iteração e quantas iterações podem ocorrer no pior cenário.\n",
        "\n",
        "---\n",
        "\n",
        "#### **1. Fórmula de Complexidade no Pior Caso**\n",
        "No pior caso, o Simplex pode visitar **todos os vértices do politopo viável**, o que resulta em um comportamento **exponencial**. Isso foi demonstrado por Klee e Minty (1972), que construíram um exemplo onde o Simplex percorre **2ⁿ - 1** vértices antes de encontrar a solução ótima.\n",
        "\n",
        "A complexidade exata pode ser expressa como:\n",
        "\n",
        "\\[\n",
        "T(n) = (2^n - 1) \\cdot O(n^2)\n",
        "\\]\n",
        "\n",
        "onde:\n",
        "- \\( 2^n - 1 \\) representa o **número máximo de vértices visitados**.\n",
        "- \\( O(n^2) \\) corresponde ao **custo por iteração**, que vem da atualização da tabela simplex (pivotação, escolha da variável de entrada/saída e ajustes na matriz).\n",
        "\n",
        "Portanto, a função exata para o tempo de execução do Simplex no pior caso é:\n",
        "\n",
        "\\[\n",
        "T(n) = O(2^n \\cdot n^2)\n",
        "\\]\n",
        "\n",
        "---\n",
        "\n",
        "#### **2. Justificativa**\n",
        "Cada iteração do Simplex envolve:\n",
        "1. **Escolha da variável pivô** → **O(n)**\n",
        "2. **Teste da razão (identificar a variável que sai da base)** → **O(n)**\n",
        "3. **Pivotação (atualização da tabela, eliminação de Gauss para resolver sistema linear)** → **O(n^2)**\n",
        "\n",
        "Assim, o tempo total por iteração é aproximadamente **O(n^2)**.\n",
        "\n",
        "No **pior caso**, o algoritmo pode visitar **2ⁿ - 1** vértices antes de parar, resultando em **(2ⁿ - 1) iterações**.\n",
        "\n",
        "Multiplicando pelo custo por iteração, temos:\n",
        "\n",
        "\\[\n",
        "T(n) = (2^n - 1) \\cdot O(n^2)\n",
        "\\]\n",
        "\n",
        "O termo \\(-1\\) é irrelevante para a notação assintótica, então podemos simplificar para:\n",
        "\n",
        "\\[\n",
        "T(n) = O(2^n \\cdot n^2)\n",
        "\\]\n",
        "\n",
        "---\n",
        "\n",
        "#### **3. Interpretação**\n",
        "- O Simplex **cresce exponencialmente** no pior caso.\n",
        "- Isso significa que **mesmo para pequenos valores de \\( n \\)**, o tempo de execução pode ser impraticável.\n",
        "- **Por exemplo**, para \\( n = 20 \\), temos aproximadamente **\\( O(2^{20} \\cdot 400) \\approx O(419.4 \\text{ milhões}) \\)** operações.\n",
        "- **Alternativa:** O **método do ponto interior** resolve problemas de Programação Linear com complexidade **polinomial O(n³)** e evita essa explosão exponencial.\n",
        "\n",
        "🚀 **Conclusão**: No pior caso, a complexidade exata do Simplex é **O(2ⁿ \\cdot n²)**, tornando-o impraticável para grandes valores de **n**."
      ],
      "metadata": {
        "id": "iPICe9IXrrtq"
      }
    },
    {
      "cell_type": "markdown",
      "source": [
        "# 5) Resolvendo a conta"
      ],
      "metadata": {
        "id": "gPLoH_8itNES"
      }
    },
    {
      "cell_type": "markdown",
      "source": [
        "A seguir, temos uma solução modularizada em Python para resolver o sistema\n",
        "\n",
        "\\[\n",
        "\\begin{cases}\n",
        "-x + 5y - 2z = 10,\\\\[1mm]\n",
        "2x - 3y + 7z = -2,\\\\[1mm]\n",
        "-7x + 9y - 6z = 8.\n",
        "\\end{cases}\n",
        "\\]\n",
        "\n",
        "No exemplo, definimos funções separadas para:\n",
        "1. Resolver o sistema linear usando o NumPy.\n",
        "2. Calcular os valores das expressões (funções) de cada equação, para conferir que o sistema foi resolvido corretamente.\n",
        "\n",
        "---\n",
        "\n",
        "### Código Python\n",
        "\n",
        "\n",
        "\n",
        "---\n"
      ],
      "metadata": {
        "id": "Zz1xZjKEtQnB"
      }
    },
    {
      "cell_type": "code",
      "source": [
        "def solve_linear_system():\n",
        "    \"\"\"\n",
        "    Resolve o sistema linear:\n",
        "      -x + 5y - 2z = 10\n",
        "      2x - 3y + 7z = -2\n",
        "      -7x + 9y - 6z = 8\n",
        "    Retorna:\n",
        "      Uma tupla (x, y, z) com os valores encontrados.\n",
        "    \"\"\"\n",
        "    # Matriz dos coeficientes (A) e vetor dos termos independentes (b)\n",
        "    A = np.array([[-1, 5, -2],\n",
        "                  [ 2, -3,  7],\n",
        "                  [-7, 9, -6]], dtype=float)\n",
        "    b = np.array([10, -2, 8], dtype=float)\n",
        "    # Resolve o sistema A * X = b\n",
        "    solution = np.linalg.solve(A, b)\n",
        "    return solution\n",
        "\n",
        "def compute_functions(x, y, z):\n",
        "    \"\"\"\n",
        "    Calcula os valores das funções definidas pelas equações do sistema:\n",
        "      f1 = -x + 5y - 2z  (deve resultar em 10)\n",
        "      f2 = 2x - 3y + 7z   (deve resultar em -2)\n",
        "      f3 = -7x + 9y - 6z  (deve resultar em 8)\n",
        "    Retorna:\n",
        "      Uma tupla (f1, f2, f3) com os valores calculados.\n",
        "    \"\"\"\n",
        "    f1 = -x + 5*y - 2*z\n",
        "    f2 =  2*x - 3*y + 7*z\n",
        "    f3 = -7*x + 9*y - 6*z\n",
        "    return f1, f2, f3\n",
        "\n",
        "\n",
        "# Resolve o sistema e obtém os valores de x, y e z\n",
        "x, y, z = solve_linear_system()\n",
        "\n",
        "# Calcula os valores das funções para conferência\n",
        "f1, f2, f3 = compute_functions(x, y, z)\n",
        "\n",
        "# Exibe os resultados\n",
        "print(\"Solução do sistema:\")\n",
        "print(f\"  x = {x:.3f}\")\n",
        "print(f\"  y = {y:.3f}\")\n",
        "print(f\"  z = {z:.3f}\")\n",
        "\n",
        "print(\"\\nVerificação (substituindo na equação):\")\n",
        "print(f\"  -x + 5y - 2z = {f1:.3f}  (deve ser 10)\")\n",
        "print(f\"   2x - 3y + 7z = {f2:.3f}  (deve ser -2)\")\n",
        "print(f\"  -7x + 9y - 6z = {f3:.3f}  (deve ser 8)\")\n"
      ],
      "metadata": {
        "id": "niUie-yitdoE",
        "outputId": "7ad9fe01-f15d-4ae5-bf97-b962639eaf10",
        "colab": {
          "base_uri": "https://localhost:8080/"
        }
      },
      "execution_count": 17,
      "outputs": [
        {
          "output_type": "stream",
          "name": "stdout",
          "text": [
            "Solução do sistema:\n",
            "  x = 1.806\n",
            "  y = 2.463\n",
            "  z = 0.254\n",
            "\n",
            "Verificação (substituindo na equação):\n",
            "  -x + 5y - 2z = 10.000  (deve ser 10)\n",
            "   2x - 3y + 7z = -2.000  (deve ser -2)\n",
            "  -7x + 9y - 6z = 8.000  (deve ser 8)\n"
          ]
        }
      ]
    },
    {
      "cell_type": "markdown",
      "source": [
        "\n",
        "### Resultados Obtidos\n",
        "\n",
        "Ao executar o código, obtemos:\n",
        "\n",
        "- **x** = 121/67 ≈ 1.806  \n",
        "- **y** = 165/67 ≈ 2.463  \n",
        "- **z** = 17/67 ≈ 0.254\n",
        "\n",
        "E, ao substituir esses valores nas equações, temos:\n",
        "\n",
        "- \\(-x + 5y - 2z \\approx 10\\)\n",
        "- \\(2x - 3y + 7z \\approx -2\\)\n",
        "- \\(-7x + 9y - 6z \\approx 8\\)\n",
        "\n",
        "Assim, os resultados finais (x, y, z, f) podem ser interpretados como:\n",
        "\n",
        "- **x** = 1.806  \n",
        "- **y** = 2.463  \n",
        "- **z** = 0.254  \n",
        "- **f** = 10 (valor da função da 1ª equação, por exemplo)\n",
        "\n",
        "Esses valores confirmam que o sistema foi resolvido corretamente."
      ],
      "metadata": {
        "id": "u_lnEPQZtuVf"
      }
    }
  ]
}