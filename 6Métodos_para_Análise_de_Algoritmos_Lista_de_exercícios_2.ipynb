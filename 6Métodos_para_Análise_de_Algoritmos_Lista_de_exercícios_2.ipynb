{
  "nbformat": 4,
  "nbformat_minor": 0,
  "metadata": {
    "colab": {
      "provenance": [],
      "include_colab_link": true
    },
    "kernelspec": {
      "name": "python3",
      "display_name": "Python 3"
    }
  },
  "cells": [
    {
      "cell_type": "markdown",
      "metadata": {
        "id": "view-in-github",
        "colab_type": "text"
      },
      "source": [
        "<a href=\"https://colab.research.google.com/github/PauloRhyanK/ProjetoeAnaliseAlgoritimos/blob/main/6M%C3%A9todos_para_An%C3%A1lise_de_Algoritmos_Lista_de_exerc%C3%ADcios_2.ipynb\" target=\"_parent\"><img src=\"https://colab.research.google.com/assets/colab-badge.svg\" alt=\"Open In Colab\"/></a>"
      ]
    },
    {
      "cell_type": "markdown",
      "metadata": {
        "id": "G90zxY79qIXe"
      },
      "source": [
        "\n",
        "<html>\n",
        "  <body>\n",
        "    <header></header>\n",
        "        <CENTER>\n",
        "          <img src=\"https://uvv.br/wp-content/themes/core/dist/images/Logo@2x.png\" alt=\"UVV-LOGO\" style = width=\"100px\"; height=\"100px\">\n",
        "        </CENTER>\n",
        "        <CENTER>\n",
        "          <b>\n",
        "            <font size=\"5\">Métodos para Análise de Algoritmos\n",
        "          </b>\n",
        "          </CENTER>\n",
        "        <CENTER><b>Lista de exercícios</b></CENTER><br/>\n",
        "        </font>"
      ]
    },
    {
      "cell_type": "markdown",
      "metadata": {
        "id": "_Kanz0T-rhol"
      },
      "source": [
        "## BIBLIOTECA / FUNÇÕES"
      ]
    },
    {
      "cell_type": "markdown",
      "source": [
        "COLAB: [Link](https://colab.research.google.com/github/PauloRhyanK/ProjetoeAnaliseAlgoritimos/blob/main/6M%C3%A9todos_para_An%C3%A1lise_de_Algoritmos_Lista_de_exerc%C3%ADcios_2.ipynb)"
      ],
      "metadata": {
        "id": "koY2aomhEh-L"
      }
    },
    {
      "cell_type": "code",
      "source": [
        "import numpy\n",
        "import time"
      ],
      "metadata": {
        "id": "Mmg91VilSlU0"
      },
      "execution_count": 1,
      "outputs": []
    },
    {
      "cell_type": "code",
      "source": [
        "array = numpy.random.choice(numpy.arange(10, 100, 1), 10, replace = False)\n",
        "array"
      ],
      "metadata": {
        "colab": {
          "base_uri": "https://localhost:8080/",
          "height": 0
        },
        "id": "YuVYIe7TBkEY",
        "outputId": "f6c715fd-19ce-43b2-dc7f-4b6ae3c4a09a"
      },
      "execution_count": 2,
      "outputs": [
        {
          "output_type": "execute_result",
          "data": {
            "text/plain": [
              "array([39, 76, 60, 66, 58, 46, 56, 16, 22, 55])"
            ]
          },
          "metadata": {},
          "execution_count": 2
        }
      ]
    },
    {
      "cell_type": "code",
      "source": [
        "def fibonacci_tail(n, a = 0, b = 1):\n",
        "    if n == 0:\n",
        "        return a\n",
        "    if n == 1:\n",
        "        return b\n",
        "    return fibonacci_tail(n - 1, b, a + b)\n",
        "\n",
        "try:\n",
        "  print(fibonacci_tail(10000))  # STACK OVERFLOW\n",
        "except Exception as ERRO_EXCECAO:\n",
        "  print(f'ERRO DE EXCEÇÃO: {ERRO_EXCECAO}')"
      ],
      "metadata": {
        "colab": {
          "base_uri": "https://localhost:8080/",
          "height": 0
        },
        "id": "ChhS9de5zpkJ",
        "outputId": "657c6dcb-fa35-43e1-a5e7-e754efd08408"
      },
      "execution_count": 3,
      "outputs": [
        {
          "output_type": "stream",
          "name": "stdout",
          "text": [
            "ERRO DE EXCEÇÃO: maximum recursion depth exceeded\n"
          ]
        }
      ]
    },
    {
      "cell_type": "code",
      "source": [
        "def fibonacci_without_tail(n, a = 0, b = 1):\n",
        "    if n == 0:\n",
        "        return a\n",
        "    if n == 1:\n",
        "        return b\n",
        "    return fibonacci_without_tail(n - 1) + fibonacci_without_tail(n - 2)\n",
        "\n",
        "try:\n",
        "  print(fibonacci_without_tail(10000))  # STACK OVERFLOW\n",
        "except Exception as ERRO_EXCECAO:\n",
        "  print(f'ERRO DE EXCEÇÃO: {ERRO_EXCECAO}')"
      ],
      "metadata": {
        "colab": {
          "base_uri": "https://localhost:8080/",
          "height": 0
        },
        "id": "J3rQ2NMaObzc",
        "outputId": "543c6db4-d06b-4f43-9d11-948d0db7a1ac"
      },
      "execution_count": 4,
      "outputs": [
        {
          "output_type": "stream",
          "name": "stdout",
          "text": [
            "ERRO DE EXCEÇÃO: maximum recursion depth exceeded\n"
          ]
        }
      ]
    },
    {
      "cell_type": "markdown",
      "metadata": {
        "id": "9xAeS2N6odUE"
      },
      "source": [
        "## Exercícios"
      ]
    },
    {
      "cell_type": "markdown",
      "source": [
        "#Exercício 1:"
      ],
      "metadata": {
        "id": "z8-ip9IbkXN-"
      }
    },
    {
      "cell_type": "markdown",
      "source": [
        "Esrever uma função que retorne o índice do menor valor de um vetor.\n",
        "\n",
        "Fazer a solução com:\n",
        "*   Função 1: Recursão com cauda\n",
        "*   Função 2: Recursão sem cauda"
      ],
      "metadata": {
        "id": "3YeTeMQLwGTa"
      }
    },
    {
      "cell_type": "code",
      "source": [
        "def funcao1(array,i = 0, minIndex = 0 ):\n",
        "  if i == len(array) - 1:\n",
        "    return minIndex\n",
        "  if array[i] < array[minIndex]:\n",
        "    minIndex = i\n",
        "  return funcao1(array, i + 1, minIndex)"
      ],
      "metadata": {
        "id": "nBpFrJgEwGdz"
      },
      "execution_count": 5,
      "outputs": []
    },
    {
      "cell_type": "code",
      "source": [
        "print(funcao1(array))"
      ],
      "metadata": {
        "id": "tTNvnetnU6r_",
        "outputId": "d7955446-3b12-44f9-ab67-3c5876c5206a",
        "colab": {
          "base_uri": "https://localhost:8080/",
          "height": 0
        }
      },
      "execution_count": 6,
      "outputs": [
        {
          "output_type": "stream",
          "name": "stdout",
          "text": [
            "7\n"
          ]
        }
      ]
    },
    {
      "cell_type": "code",
      "source": [
        "def funcao2(vetor, i = 0, final = False):\n",
        "  if i == (len(vetor) - 1):\n",
        "    final = True\n",
        "\n",
        ""
      ],
      "metadata": {
        "id": "o4EQHZi4wlIS"
      },
      "execution_count": null,
      "outputs": []
    },
    {
      "cell_type": "markdown",
      "source": [
        "#Exercício 2:"
      ],
      "metadata": {
        "id": "pSMZV3dAwlTa"
      }
    },
    {
      "cell_type": "markdown",
      "source": [
        "Exibir, por engenharia reversa, as pilhas de recursão das funções 1 e 2."
      ],
      "metadata": {
        "id": "-7r_B3W5w8hq"
      }
    },
    {
      "cell_type": "code",
      "source": [],
      "metadata": {
        "id": "SV6Ldosuwlgd"
      },
      "execution_count": null,
      "outputs": []
    },
    {
      "cell_type": "code",
      "source": [],
      "metadata": {
        "id": "6J-Pw3cpxHx9"
      },
      "execution_count": null,
      "outputs": []
    },
    {
      "cell_type": "markdown",
      "source": [
        "#Exercício 3:"
      ],
      "metadata": {
        "id": "ZS8Rex2u2469"
      }
    },
    {
      "cell_type": "markdown",
      "source": [
        "Faça a prova matemática, por engenharia reversa, da função de complexidade $f(n)$ (pior caso), para:\n",
        "\n",
        "*   Função 1: Recursão com cauda\n",
        "*   Função 2: Recursão sem cauda"
      ],
      "metadata": {
        "id": "N3VznOnz25DB"
      }
    },
    {
      "cell_type": "code",
      "source": [],
      "metadata": {
        "id": "JDwm1gL625PN"
      },
      "execution_count": null,
      "outputs": []
    },
    {
      "cell_type": "code",
      "source": [],
      "metadata": {
        "id": "2vfXwRIs6g76"
      },
      "execution_count": null,
      "outputs": []
    },
    {
      "cell_type": "markdown",
      "source": [
        "#Exercício 4:"
      ],
      "metadata": {
        "id": "YQthVr1p6hxO"
      }
    },
    {
      "cell_type": "markdown",
      "source": [
        "Faça a prova matemática, usado o ${Latex}$, da função de complexidade $f(n)$ (pior caso), para:\n",
        "\n",
        "*   Função 1: Recursão com cauda\n",
        "*   Função 2: Recursão sem cauda"
      ],
      "metadata": {
        "id": "UIKyfdrV6iBy"
      }
    },
    {
      "cell_type": "markdown",
      "source": [
        "## Função 1:"
      ],
      "metadata": {
        "id": "JtMoquNS6i5k"
      }
    },
    {
      "cell_type": "markdown",
      "source": [
        "Função de complexidade: $f(n) \\propto \\ Linhas \\ ? + \\ ? + \\ ?$"
      ],
      "metadata": {
        "id": "mejyETeB8v7A"
      }
    },
    {
      "cell_type": "markdown",
      "source": [
        "## Função 2:"
      ],
      "metadata": {
        "id": "oI9ckWBU8wOk"
      }
    },
    {
      "cell_type": "markdown",
      "source": [
        "Função de complexidade: $f(n) \\propto \\ Linhas \\ ? + \\ ? + \\ ?$"
      ],
      "metadata": {
        "id": "O8bakhs-8wTg"
      }
    }
  ]
}